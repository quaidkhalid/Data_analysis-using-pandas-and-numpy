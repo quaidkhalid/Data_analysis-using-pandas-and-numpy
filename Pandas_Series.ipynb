{
 "cells": [
  {
   "cell_type": "code",
   "execution_count": 9,
   "id": "b8a82048",
   "metadata": {},
   "outputs": [],
   "source": [
    "import pandas as pd"
   ]
  },
  {
   "cell_type": "markdown",
   "id": "c0c892f0",
   "metadata": {},
   "source": [
    "## Making series"
   ]
  },
  {
   "cell_type": "code",
   "execution_count": 10,
   "id": "819ed631",
   "metadata": {},
   "outputs": [
    {
     "data": {
      "text/plain": [
       "0      4753079\n",
       "1      7261460\n",
       "2       481772\n",
       "3    740433713\n",
       "4    604182517\n",
       "5    429191505\n",
       "dtype: int64"
      ]
     },
     "execution_count": 10,
     "metadata": {},
     "output_type": "execute_result"
    }
   ],
   "source": [
    "df = pd.Series([4753079,7261460,481772,740433713,604182517,429191505])\n",
    "df"
   ]
  },
  {
   "cell_type": "code",
   "execution_count": 11,
   "id": "ac1f7292",
   "metadata": {},
   "outputs": [
    {
     "data": {
      "text/plain": [
       "Asia               4753079\n",
       "Africa             7261460\n",
       "Europe              481772\n",
       "North America    740433713\n",
       "South America    604182517\n",
       "Australia        429191505\n",
       "dtype: int64"
      ]
     },
     "execution_count": 11,
     "metadata": {},
     "output_type": "execute_result"
    }
   ],
   "source": [
    "df.index=['Asia','Africa','Europe','North America','South America','Australia']\n",
    "df"
   ]
  },
  {
   "cell_type": "code",
   "execution_count": 13,
   "id": "c5402074",
   "metadata": {},
   "outputs": [
    {
     "data": {
      "text/plain": [
       "Asia               4753079\n",
       "Africa             7261460\n",
       "Europe              481772\n",
       "North America    740433713\n",
       "South America    604182517\n",
       "Australia        429191505\n",
       "Name: World continents and its population, dtype: int64"
      ]
     },
     "execution_count": 13,
     "metadata": {},
     "output_type": "execute_result"
    }
   ],
   "source": [
    "df.name = \"World continents and its population\"\n",
    "df"
   ]
  },
  {
   "cell_type": "markdown",
   "id": "6f6da4a7",
   "metadata": {},
   "source": [
    "## Fetching data by index"
   ]
  },
  {
   "cell_type": "code",
   "execution_count": 14,
   "id": "05940ac4",
   "metadata": {},
   "outputs": [
    {
     "data": {
      "text/plain": [
       "7261460"
      ]
     },
     "execution_count": 14,
     "metadata": {},
     "output_type": "execute_result"
    }
   ],
   "source": [
    "df[\"Africa\"]"
   ]
  },
  {
   "cell_type": "code",
   "execution_count": 15,
   "id": "1d4ddeb3",
   "metadata": {},
   "outputs": [
    {
     "data": {
      "text/plain": [
       "429191505"
      ]
     },
     "execution_count": 15,
     "metadata": {},
     "output_type": "execute_result"
    }
   ],
   "source": [
    "df[5]"
   ]
  },
  {
   "cell_type": "markdown",
   "id": "5c8af5cf",
   "metadata": {},
   "source": [
    "## Method 2 making series"
   ]
  },
  {
   "cell_type": "code",
   "execution_count": 17,
   "id": "09a88a05",
   "metadata": {},
   "outputs": [
    {
     "data": {
      "text/plain": [
       "Asia               4753079\n",
       "Africa             7261460\n",
       "Europe              481772\n",
       "North America    740433713\n",
       "South America    604182517\n",
       "Australia        429191505\n",
       "Name: world continents and its population, dtype: int64"
      ]
     },
     "execution_count": 17,
     "metadata": {},
     "output_type": "execute_result"
    }
   ],
   "source": [
    "data = pd.Series([4753079,7261460,481772,740433713,604182517,429191505], index =['Asia','Africa','Europe','North America','South America','Australia'],name = \"world continents and its population\")\n",
    "data"
   ]
  },
  {
   "cell_type": "code",
   "execution_count": 18,
   "id": "aff7ff76",
   "metadata": {},
   "outputs": [
    {
     "data": {
      "text/plain": [
       "(6,)"
      ]
     },
     "execution_count": 18,
     "metadata": {},
     "output_type": "execute_result"
    }
   ],
   "source": [
    "data.shape"
   ]
  },
  {
   "cell_type": "markdown",
   "id": "d7bbe8f4",
   "metadata": {},
   "source": [
    "## Creating new series using existing series"
   ]
  },
  {
   "cell_type": "code",
   "execution_count": 21,
   "id": "7048067c",
   "metadata": {},
   "outputs": [
    {
     "data": {
      "text/plain": [
       "Asia      4753079\n",
       "Europe     481772\n",
       "Name: world continents and its population, dtype: int64"
      ]
     },
     "execution_count": 21,
     "metadata": {},
     "output_type": "execute_result"
    }
   ],
   "source": [
    "data2 = pd.Series(data, index = ['Asia', 'Europe'])\n",
    "data2"
   ]
  },
  {
   "cell_type": "markdown",
   "id": "ad3cc33c",
   "metadata": {},
   "source": [
    "## Fetching multiple data"
   ]
  },
  {
   "cell_type": "code",
   "execution_count": 23,
   "id": "f2d36cb5",
   "metadata": {},
   "outputs": [
    {
     "data": {
      "text/plain": [
       "Australia        429191505\n",
       "North America    740433713\n",
       "Europe              481772\n",
       "Name: world continents and its population, dtype: int64"
      ]
     },
     "execution_count": 23,
     "metadata": {},
     "output_type": "execute_result"
    }
   ],
   "source": [
    "data[['Australia', 'North America', 'Europe']]\n"
   ]
  },
  {
   "cell_type": "markdown",
   "id": "df597aa3",
   "metadata": {},
   "source": [
    "## loc and iloc"
   ]
  },
  {
   "cell_type": "code",
   "execution_count": 26,
   "id": "3414e324",
   "metadata": {},
   "outputs": [
    {
     "data": {
      "text/plain": [
       "4753079"
      ]
     },
     "execution_count": 26,
     "metadata": {},
     "output_type": "execute_result"
    }
   ],
   "source": [
    "data.loc['Asia']    #loc is used for texitual index"
   ]
  },
  {
   "cell_type": "code",
   "execution_count": 28,
   "id": "337a692a",
   "metadata": {},
   "outputs": [
    {
     "data": {
      "text/plain": [
       "481772"
      ]
     },
     "execution_count": 28,
     "metadata": {},
     "output_type": "execute_result"
    }
   ],
   "source": [
    "data.iloc[2]    #iloc is used for numerical index"
   ]
  },
  {
   "cell_type": "markdown",
   "id": "d593db5f",
   "metadata": {},
   "source": [
    "## Conditions and operators"
   ]
  },
  {
   "cell_type": "code",
   "execution_count": 29,
   "id": "9492666e",
   "metadata": {},
   "outputs": [
    {
     "data": {
      "text/plain": [
       "Asia              True\n",
       "Africa            True\n",
       "Europe           False\n",
       "North America     True\n",
       "South America     True\n",
       "Australia         True\n",
       "Name: world continents and its population, dtype: bool"
      ]
     },
     "execution_count": 29,
     "metadata": {},
     "output_type": "execute_result"
    }
   ],
   "source": [
    "data > 4000000"
   ]
  },
  {
   "cell_type": "code",
   "execution_count": 30,
   "id": "f4bc8c24",
   "metadata": {},
   "outputs": [
    {
     "data": {
      "text/plain": [
       "Africa             7261460\n",
       "North America    740433713\n",
       "South America    604182517\n",
       "Australia        429191505\n",
       "Name: world continents and its population, dtype: int64"
      ]
     },
     "execution_count": 30,
     "metadata": {},
     "output_type": "execute_result"
    }
   ],
   "source": [
    "data[data > 5000000]"
   ]
  },
  {
   "cell_type": "code",
   "execution_count": 31,
   "id": "019915b5",
   "metadata": {},
   "outputs": [
    {
     "data": {
      "text/plain": [
       "Asia               23765.395\n",
       "Africa             36307.300\n",
       "Europe              2408.860\n",
       "North America    3702168.565\n",
       "South America    3020912.585\n",
       "Australia        2145957.525\n",
       "Name: world continents and its population, dtype: float64"
      ]
     },
     "execution_count": 31,
     "metadata": {},
     "output_type": "execute_result"
    }
   ],
   "source": [
    "data * 0.005"
   ]
  },
  {
   "cell_type": "code",
   "execution_count": 34,
   "id": "c121d8d2",
   "metadata": {},
   "outputs": [
    {
     "data": {
      "text/plain": [
       "Asia               1188\n",
       "Africa             1815\n",
       "Europe              120\n",
       "North America    185108\n",
       "South America    151045\n",
       "Australia        107297\n",
       "Name: world continents and its population, dtype: int64"
      ]
     },
     "execution_count": 34,
     "metadata": {},
     "output_type": "execute_result"
    }
   ],
   "source": [
    "data // 4000"
   ]
  },
  {
   "cell_type": "code",
   "execution_count": 35,
   "id": "0824690d",
   "metadata": {},
   "outputs": [
    {
     "data": {
      "text/plain": [
       "297717341.0"
      ]
     },
     "execution_count": 35,
     "metadata": {},
     "output_type": "execute_result"
    }
   ],
   "source": [
    "data.mean()"
   ]
  },
  {
   "cell_type": "code",
   "execution_count": 36,
   "id": "38782f8c",
   "metadata": {},
   "outputs": [
    {
     "data": {
      "text/plain": [
       "2617425.5"
      ]
     },
     "execution_count": 36,
     "metadata": {},
     "output_type": "execute_result"
    }
   ],
   "source": [
    "data[[\"Asia\", \"Europe\"]].mean()"
   ]
  },
  {
   "cell_type": "code",
   "execution_count": 37,
   "id": "b165d98c",
   "metadata": {},
   "outputs": [
    {
     "data": {
      "text/plain": [
       "count    6.000000e+00\n",
       "mean     2.977173e+08\n",
       "std      3.363765e+08\n",
       "min      4.817720e+05\n",
       "25%      5.380174e+06\n",
       "50%      2.182265e+08\n",
       "75%      5.604348e+08\n",
       "max      7.404337e+08\n",
       "Name: world continents and its population, dtype: float64"
      ]
     },
     "execution_count": 37,
     "metadata": {},
     "output_type": "execute_result"
    }
   ],
   "source": [
    "data.describe()   #statistical analysis"
   ]
  },
  {
   "cell_type": "code",
   "execution_count": 38,
   "id": "833f424b",
   "metadata": {},
   "outputs": [
    {
     "name": "stdout",
     "output_type": "stream",
     "text": [
      "<class 'pandas.core.series.Series'>\n",
      "Index: 6 entries, Asia to Australia\n",
      "Series name: world continents and its population\n",
      "Non-Null Count  Dtype\n",
      "--------------  -----\n",
      "6 non-null      int64\n",
      "dtypes: int64(1)\n",
      "memory usage: 268.0+ bytes\n"
     ]
    }
   ],
   "source": [
    "data.info()"
   ]
  },
  {
   "cell_type": "markdown",
   "id": "aa474558",
   "metadata": {},
   "source": [
    "## Change index"
   ]
  },
  {
   "cell_type": "code",
   "execution_count": 39,
   "id": "dc60fd06",
   "metadata": {},
   "outputs": [
    {
     "data": {
      "text/plain": [
       "Great Asia         4753079\n",
       "Africa             7261460\n",
       "Europe              481772\n",
       "North America    740433713\n",
       "South America    604182517\n",
       "Australia        429191505\n",
       "Name: world continents and its population, dtype: int64"
      ]
     },
     "execution_count": 39,
     "metadata": {},
     "output_type": "execute_result"
    }
   ],
   "source": [
    "data.rename(index = {'Asia': 'Great Asia'})"
   ]
  },
  {
   "cell_type": "code",
   "execution_count": null,
   "id": "48b93841",
   "metadata": {},
   "outputs": [],
   "source": []
  }
 ],
 "metadata": {
  "kernelspec": {
   "display_name": "Python 3 (ipykernel)",
   "language": "python",
   "name": "python3"
  },
  "language_info": {
   "codemirror_mode": {
    "name": "ipython",
    "version": 3
   },
   "file_extension": ".py",
   "mimetype": "text/x-python",
   "name": "python",
   "nbconvert_exporter": "python",
   "pygments_lexer": "ipython3",
   "version": "3.11.5"
  }
 },
 "nbformat": 4,
 "nbformat_minor": 5
}
